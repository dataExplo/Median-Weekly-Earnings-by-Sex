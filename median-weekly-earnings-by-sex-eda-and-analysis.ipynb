{
 "cells": [
  {
   "cell_type": "markdown",
   "id": "5e6512fe",
   "metadata": {
    "papermill": {
     "duration": 0.010631,
     "end_time": "2024-09-27T17:04:32.433730",
     "exception": false,
     "start_time": "2024-09-27T17:04:32.423099",
     "status": "completed"
    },
    "tags": []
   },
   "source": [
    "## <b><div style='padding:30px;background-color:#001BC7;color:white;border-radius:80px;font-size:150%;text-align: center'>Median Weekly Earnings by Sex</div></b>"
   ]
  },
  {
   "cell_type": "code",
   "execution_count": 1,
   "id": "ff48b03c",
   "metadata": {
    "execution": {
     "iopub.execute_input": "2024-09-27T17:04:32.457800Z",
     "iopub.status.busy": "2024-09-27T17:04:32.457333Z",
     "iopub.status.idle": "2024-09-27T17:04:32.477213Z",
     "shell.execute_reply": "2024-09-27T17:04:32.475918Z"
    },
    "papermill": {
     "duration": 0.035989,
     "end_time": "2024-09-27T17:04:32.479875",
     "exception": false,
     "start_time": "2024-09-27T17:04:32.443886",
     "status": "completed"
    },
    "tags": []
   },
   "outputs": [
    {
     "name": "stdout",
     "output_type": "stream",
     "text": [
      "/kaggle/input/median-weekly-earnings-by-sex/data.csv\n"
     ]
    }
   ],
   "source": [
    "import os\n",
    "for dirname, _, filenames in os.walk('/kaggle/input'):\n",
    "    for filename in filenames:\n",
    "        print(os.path.join(dirname, filename))"
   ]
  },
  {
   "cell_type": "markdown",
   "id": "7c464db2",
   "metadata": {
    "papermill": {
     "duration": 0.009798,
     "end_time": "2024-09-27T17:04:32.500309",
     "exception": false,
     "start_time": "2024-09-27T17:04:32.490511",
     "status": "completed"
    },
    "tags": []
   },
   "source": [
    "## <b><div style='padding:15px;background-color:#001BC7;color:white;border-radius:40px;font-size:110%;text-align: center'>1  |  About Dataset</div></b>"
   ]
  },
  {
   "cell_type": "markdown",
   "id": "6eb3a863",
   "metadata": {
    "papermill": {
     "duration": 0.00978,
     "end_time": "2024-09-27T17:04:32.520070",
     "exception": false,
     "start_time": "2024-09-27T17:04:32.510290",
     "status": "completed"
    },
    "tags": []
   },
   "source": [
    "**Dataset Overview**\n",
    "\n",
    "This dataset provides a comprehensive overview of the U.S. workforce and their median weekly earnings over time, spanning from 2009 to 2021. The data is broken down by gender and includes both current and constant dollar values, providing insight into the economic trends affecting different segments of the workforce.\n",
    "\n",
    "**Columns Description**\n",
    "\n",
    "* Year: The year of the data point.\n",
    "* Quarter: The quarter of the year (1-4) when the data was collected.\n",
    "* Number of workers (in thousands) - Total: The total number of workers in the U.S. workforce, reported in thousands.\n",
    "* Number of workers (in thousands) - Men: The number of male workers in the U.S. workforce, reported in thousands.\n",
    "* Number of workers (in thousands) - Women: The number of female workers in the U.S. workforce, reported in thousands.\n",
    "* Median weekly earnings (in current dollars) - Total: The median weekly earnings of all workers in the U.S. workforce, reported in current dollars.\n",
    "* Median weekly earnings (in current dollars) - Men: The median weekly earnings of male workers in the U.S. workforce, reported in current dollars.\n",
    "* Median weekly earnings (in current dollars) - Women: The median weekly earnings of female workers in the U.S. workforce, reported in current dollars.\n",
    "* Median weekly earnings (in constant dollars) - Total: The median weekly earnings of all workers in the U.S. workforce, adjusted for inflation and reported in constant dollars.\n",
    "* Median weekly earnings (in constant dollars) - Men: The median weekly earnings of male workers in the U.S. workforce, adjusted for inflation and reported in constant dollars.\n",
    "* Median weekly earnings (in constant dollars) - Women: The median weekly earnings of female workers in the U.S. workforce, adjusted for inflation and reported in constant dollars."
   ]
  },
  {
   "cell_type": "markdown",
   "id": "6d6c68db",
   "metadata": {
    "papermill": {
     "duration": 0.010647,
     "end_time": "2024-09-27T17:04:32.541060",
     "exception": false,
     "start_time": "2024-09-27T17:04:32.530413",
     "status": "completed"
    },
    "tags": []
   },
   "source": [
    "## <b><div style='padding:15px;background-color:#001BC7;color:white;border-radius:40px;font-size:110%;text-align: center'>2  |  Importing Libraries</div></b>"
   ]
  },
  {
   "cell_type": "code",
   "execution_count": 2,
   "id": "20a68cbf",
   "metadata": {
    "execution": {
     "iopub.execute_input": "2024-09-27T17:04:32.562793Z",
     "iopub.status.busy": "2024-09-27T17:04:32.562276Z",
     "iopub.status.idle": "2024-09-27T17:04:36.355311Z",
     "shell.execute_reply": "2024-09-27T17:04:36.354234Z"
    },
    "papermill": {
     "duration": 3.807306,
     "end_time": "2024-09-27T17:04:36.358233",
     "exception": false,
     "start_time": "2024-09-27T17:04:32.550927",
     "status": "completed"
    },
    "tags": []
   },
   "outputs": [],
   "source": [
    "import numpy as np\n",
    "import pandas as pd\n",
    "import matplotlib.pyplot as plt\n",
    "import seaborn as sns\n",
    "from matplotlib.patches import Patch\n",
    "import plotly.express as px\n",
    "import plotly.graph_objects as go\n",
    "import ipywidgets as widgets\n",
    "from ipywidgets import interact, Dropdown, Output\n",
    "from IPython.display import display\n",
    "\n",
    "import warnings\n",
    "warnings.filterwarnings('ignore')"
   ]
  },
  {
   "cell_type": "markdown",
   "id": "7d122cda",
   "metadata": {
    "papermill": {
     "duration": 0.009636,
     "end_time": "2024-09-27T17:04:36.378106",
     "exception": false,
     "start_time": "2024-09-27T17:04:36.368470",
     "status": "completed"
    },
    "tags": []
   },
   "source": [
    "## <b><div style='padding:15px;background-color:#001BC7;color:white;border-radius:40px;font-size:110%;text-align: center'>3  |  Downloading Dataset</div></b>"
   ]
  },
  {
   "cell_type": "code",
   "execution_count": 3,
   "id": "def94b8e",
   "metadata": {
    "execution": {
     "iopub.execute_input": "2024-09-27T17:04:36.399805Z",
     "iopub.status.busy": "2024-09-27T17:04:36.399136Z",
     "iopub.status.idle": "2024-09-27T17:04:36.418345Z",
     "shell.execute_reply": "2024-09-27T17:04:36.417343Z"
    },
    "papermill": {
     "duration": 0.033208,
     "end_time": "2024-09-27T17:04:36.421100",
     "exception": false,
     "start_time": "2024-09-27T17:04:36.387892",
     "status": "completed"
    },
    "tags": []
   },
   "outputs": [],
   "source": [
    "df = pd.read_csv('/kaggle/input/median-weekly-earnings-by-sex/data.csv')"
   ]
  },
  {
   "cell_type": "code",
   "execution_count": 4,
   "id": "4d5edbe5",
   "metadata": {
    "execution": {
     "iopub.execute_input": "2024-09-27T17:04:36.442631Z",
     "iopub.status.busy": "2024-09-27T17:04:36.442218Z",
     "iopub.status.idle": "2024-09-27T17:04:36.469713Z",
     "shell.execute_reply": "2024-09-27T17:04:36.468587Z"
    },
    "papermill": {
     "duration": 0.041687,
     "end_time": "2024-09-27T17:04:36.472618",
     "exception": false,
     "start_time": "2024-09-27T17:04:36.430931",
     "status": "completed"
    },
    "tags": []
   },
   "outputs": [
    {
     "name": "stdout",
     "output_type": "stream",
     "text": [
      "### first 5 lines ### \n",
      "\n"
     ]
    },
    {
     "data": {
      "text/html": [
       "<div>\n",
       "<style scoped>\n",
       "    .dataframe tbody tr th:only-of-type {\n",
       "        vertical-align: middle;\n",
       "    }\n",
       "\n",
       "    .dataframe tbody tr th {\n",
       "        vertical-align: top;\n",
       "    }\n",
       "\n",
       "    .dataframe thead th {\n",
       "        text-align: right;\n",
       "    }\n",
       "</style>\n",
       "<table border=\"1\" class=\"dataframe\">\n",
       "  <thead>\n",
       "    <tr style=\"text-align: right;\">\n",
       "      <th></th>\n",
       "      <th>Year</th>\n",
       "      <th>Quarter</th>\n",
       "      <th>Number of workers (in thousands) - Total</th>\n",
       "      <th>Number of workers (in thousands) - Men</th>\n",
       "      <th>Number of workers (in thousands) - Women</th>\n",
       "      <th>Median weekly earnings (in current dollars) - Total</th>\n",
       "      <th>Median weekly earnings (in current dollars) - Men</th>\n",
       "      <th>Median weekly earnings (in current dollars) - Women</th>\n",
       "      <th>Median weekly earnings (in constant dollars) - Total</th>\n",
       "      <th>Median weekly earnings (in constant dollars) - Men</th>\n",
       "      <th>Median weekly earnings (in constant dollars) - Women</th>\n",
       "    </tr>\n",
       "  </thead>\n",
       "  <tbody>\n",
       "    <tr>\n",
       "      <th>0</th>\n",
       "      <td>2009</td>\n",
       "      <td>4</td>\n",
       "      <td>98,555</td>\n",
       "      <td>54,410</td>\n",
       "      <td>44,145</td>\n",
       "      <td>747</td>\n",
       "      <td>823</td>\n",
       "      <td>666</td>\n",
       "      <td>344</td>\n",
       "      <td>379</td>\n",
       "      <td>307</td>\n",
       "    </tr>\n",
       "    <tr>\n",
       "      <th>1</th>\n",
       "      <td>2010</td>\n",
       "      <td>1</td>\n",
       "      <td>98,143</td>\n",
       "      <td>54,098</td>\n",
       "      <td>44,045</td>\n",
       "      <td>748</td>\n",
       "      <td>836</td>\n",
       "      <td>662</td>\n",
       "      <td>344</td>\n",
       "      <td>384</td>\n",
       "      <td>304</td>\n",
       "    </tr>\n",
       "    <tr>\n",
       "      <th>2</th>\n",
       "      <td>2010</td>\n",
       "      <td>2</td>\n",
       "      <td>99,605</td>\n",
       "      <td>55,028</td>\n",
       "      <td>44,577</td>\n",
       "      <td>742</td>\n",
       "      <td>814</td>\n",
       "      <td>671</td>\n",
       "      <td>342</td>\n",
       "      <td>374</td>\n",
       "      <td>309</td>\n",
       "    </tr>\n",
       "    <tr>\n",
       "      <th>3</th>\n",
       "      <td>2010</td>\n",
       "      <td>3</td>\n",
       "      <td>100,412</td>\n",
       "      <td>55,620</td>\n",
       "      <td>44,792</td>\n",
       "      <td>746</td>\n",
       "      <td>821</td>\n",
       "      <td>670</td>\n",
       "      <td>342</td>\n",
       "      <td>377</td>\n",
       "      <td>308</td>\n",
       "    </tr>\n",
       "    <tr>\n",
       "      <th>4</th>\n",
       "      <td>2010</td>\n",
       "      <td>4</td>\n",
       "      <td>99,958</td>\n",
       "      <td>55,486</td>\n",
       "      <td>44,472</td>\n",
       "      <td>750</td>\n",
       "      <td>826</td>\n",
       "      <td>676</td>\n",
       "      <td>341</td>\n",
       "      <td>376</td>\n",
       "      <td>308</td>\n",
       "    </tr>\n",
       "  </tbody>\n",
       "</table>\n",
       "</div>"
      ],
      "text/plain": [
       "   Year  Quarter Number of workers (in thousands) - Total  \\\n",
       "0  2009        4                                   98,555   \n",
       "1  2010        1                                   98,143   \n",
       "2  2010        2                                   99,605   \n",
       "3  2010        3                                  100,412   \n",
       "4  2010        4                                   99,958   \n",
       "\n",
       "  Number of workers (in thousands) - Men  \\\n",
       "0                                 54,410   \n",
       "1                                 54,098   \n",
       "2                                 55,028   \n",
       "3                                 55,620   \n",
       "4                                 55,486   \n",
       "\n",
       "  Number of workers (in thousands) - Women  \\\n",
       "0                                   44,145   \n",
       "1                                   44,045   \n",
       "2                                   44,577   \n",
       "3                                   44,792   \n",
       "4                                   44,472   \n",
       "\n",
       "   Median weekly earnings (in current dollars) - Total  \\\n",
       "0                                                747     \n",
       "1                                                748     \n",
       "2                                                742     \n",
       "3                                                746     \n",
       "4                                                750     \n",
       "\n",
       "   Median weekly earnings (in current dollars) - Men  \\\n",
       "0                                                823   \n",
       "1                                                836   \n",
       "2                                                814   \n",
       "3                                                821   \n",
       "4                                                826   \n",
       "\n",
       "   Median weekly earnings (in current dollars) - Women  \\\n",
       "0                                                666     \n",
       "1                                                662     \n",
       "2                                                671     \n",
       "3                                                670     \n",
       "4                                                676     \n",
       "\n",
       "   Median weekly earnings (in constant dollars) - Total  \\\n",
       "0                                                344      \n",
       "1                                                344      \n",
       "2                                                342      \n",
       "3                                                342      \n",
       "4                                                341      \n",
       "\n",
       "   Median weekly earnings (in constant dollars) - Men  \\\n",
       "0                                                379    \n",
       "1                                                384    \n",
       "2                                                374    \n",
       "3                                                377    \n",
       "4                                                376    \n",
       "\n",
       "   Median weekly earnings (in constant dollars) - Women  \n",
       "0                                                307     \n",
       "1                                                304     \n",
       "2                                                309     \n",
       "3                                                308     \n",
       "4                                                308     "
      ]
     },
     "execution_count": 4,
     "metadata": {},
     "output_type": "execute_result"
    }
   ],
   "source": [
    "# Check Dataset\n",
    "\n",
    "print('### first 5 lines ###','\\n')\n",
    "df.head()"
   ]
  },
  {
   "cell_type": "markdown",
   "id": "6f6907e1",
   "metadata": {
    "papermill": {
     "duration": 0.010103,
     "end_time": "2024-09-27T17:04:36.493341",
     "exception": false,
     "start_time": "2024-09-27T17:04:36.483238",
     "status": "completed"
    },
    "tags": []
   },
   "source": [
    "## <b><div style='padding:15px;background-color:#001BC7;color:white;border-radius:40px;font-size:110%;text-align: center'>4  |  Inspecting and Cleaning Dataframe Structure</div></b>"
   ]
  },
  {
   "cell_type": "code",
   "execution_count": 5,
   "id": "e09451f9",
   "metadata": {
    "execution": {
     "iopub.execute_input": "2024-09-27T17:04:36.516477Z",
     "iopub.status.busy": "2024-09-27T17:04:36.516042Z",
     "iopub.status.idle": "2024-09-27T17:04:36.591383Z",
     "shell.execute_reply": "2024-09-27T17:04:36.590250Z"
    },
    "papermill": {
     "duration": 0.090178,
     "end_time": "2024-09-27T17:04:36.594128",
     "exception": false,
     "start_time": "2024-09-27T17:04:36.503950",
     "status": "completed"
    },
    "tags": []
   },
   "outputs": [
    {
     "name": "stdout",
     "output_type": "stream",
     "text": [
      "data shape: (37, 11)\n"
     ]
    },
    {
     "data": {
      "text/html": [
       "<div>\n",
       "<style scoped>\n",
       "    .dataframe tbody tr th:only-of-type {\n",
       "        vertical-align: middle;\n",
       "    }\n",
       "\n",
       "    .dataframe tbody tr th {\n",
       "        vertical-align: top;\n",
       "    }\n",
       "\n",
       "    .dataframe thead th {\n",
       "        text-align: right;\n",
       "    }\n",
       "</style>\n",
       "<table border=\"1\" class=\"dataframe\">\n",
       "  <thead>\n",
       "    <tr style=\"text-align: right;\">\n",
       "      <th></th>\n",
       "      <th>Data Type</th>\n",
       "      <th>Missing#</th>\n",
       "      <th>Missing%</th>\n",
       "      <th>Dups</th>\n",
       "      <th>Uniques</th>\n",
       "      <th>Count</th>\n",
       "      <th>Min</th>\n",
       "      <th>Max</th>\n",
       "      <th>Average</th>\n",
       "      <th>Standard Deviation</th>\n",
       "      <th>First Value</th>\n",
       "      <th>Second Value</th>\n",
       "      <th>Third Value</th>\n",
       "    </tr>\n",
       "  </thead>\n",
       "  <tbody>\n",
       "    <tr>\n",
       "      <th>Year</th>\n",
       "      <td>int64</td>\n",
       "      <td>0</td>\n",
       "      <td>0.0</td>\n",
       "      <td>0</td>\n",
       "      <td>10</td>\n",
       "      <td>37</td>\n",
       "      <td>2009.0</td>\n",
       "      <td>2018.0</td>\n",
       "      <td>2013.864865</td>\n",
       "      <td>2.709676</td>\n",
       "      <td>2009</td>\n",
       "      <td>2010</td>\n",
       "      <td>2010</td>\n",
       "    </tr>\n",
       "    <tr>\n",
       "      <th>Quarter</th>\n",
       "      <td>int64</td>\n",
       "      <td>0</td>\n",
       "      <td>0.0</td>\n",
       "      <td>0</td>\n",
       "      <td>4</td>\n",
       "      <td>37</td>\n",
       "      <td>1.0</td>\n",
       "      <td>4.0</td>\n",
       "      <td>2.540541</td>\n",
       "      <td>1.144906</td>\n",
       "      <td>4</td>\n",
       "      <td>1</td>\n",
       "      <td>2</td>\n",
       "    </tr>\n",
       "    <tr>\n",
       "      <th>Number of workers (in thousands) - Total</th>\n",
       "      <td>object</td>\n",
       "      <td>0</td>\n",
       "      <td>0.0</td>\n",
       "      <td>0</td>\n",
       "      <td>37</td>\n",
       "      <td>37</td>\n",
       "      <td>NaN</td>\n",
       "      <td>NaN</td>\n",
       "      <td>NaN</td>\n",
       "      <td>NaN</td>\n",
       "      <td>98,555</td>\n",
       "      <td>98,143</td>\n",
       "      <td>99,605</td>\n",
       "    </tr>\n",
       "    <tr>\n",
       "      <th>Number of workers (in thousands) - Men</th>\n",
       "      <td>object</td>\n",
       "      <td>0</td>\n",
       "      <td>0.0</td>\n",
       "      <td>0</td>\n",
       "      <td>37</td>\n",
       "      <td>37</td>\n",
       "      <td>NaN</td>\n",
       "      <td>NaN</td>\n",
       "      <td>NaN</td>\n",
       "      <td>NaN</td>\n",
       "      <td>54,410</td>\n",
       "      <td>54,098</td>\n",
       "      <td>55,028</td>\n",
       "    </tr>\n",
       "    <tr>\n",
       "      <th>Number of workers (in thousands) - Women</th>\n",
       "      <td>object</td>\n",
       "      <td>0</td>\n",
       "      <td>0.0</td>\n",
       "      <td>0</td>\n",
       "      <td>36</td>\n",
       "      <td>37</td>\n",
       "      <td>NaN</td>\n",
       "      <td>NaN</td>\n",
       "      <td>NaN</td>\n",
       "      <td>NaN</td>\n",
       "      <td>44,145</td>\n",
       "      <td>44,045</td>\n",
       "      <td>44,577</td>\n",
       "    </tr>\n",
       "    <tr>\n",
       "      <th>Median weekly earnings (in current dollars) - Total</th>\n",
       "      <td>int64</td>\n",
       "      <td>0</td>\n",
       "      <td>0.0</td>\n",
       "      <td>0</td>\n",
       "      <td>35</td>\n",
       "      <td>37</td>\n",
       "      <td>742.0</td>\n",
       "      <td>897.0</td>\n",
       "      <td>801.27027</td>\n",
       "      <td>46.594974</td>\n",
       "      <td>747</td>\n",
       "      <td>748</td>\n",
       "      <td>742</td>\n",
       "    </tr>\n",
       "    <tr>\n",
       "      <th>Median weekly earnings (in current dollars) - Men</th>\n",
       "      <td>int64</td>\n",
       "      <td>0</td>\n",
       "      <td>0.0</td>\n",
       "      <td>0</td>\n",
       "      <td>30</td>\n",
       "      <td>37</td>\n",
       "      <td>814.0</td>\n",
       "      <td>991.0</td>\n",
       "      <td>883.054054</td>\n",
       "      <td>49.195159</td>\n",
       "      <td>823</td>\n",
       "      <td>836</td>\n",
       "      <td>814</td>\n",
       "    </tr>\n",
       "    <tr>\n",
       "      <th>Median weekly earnings (in current dollars) - Women</th>\n",
       "      <td>int64</td>\n",
       "      <td>0</td>\n",
       "      <td>0.0</td>\n",
       "      <td>0</td>\n",
       "      <td>32</td>\n",
       "      <td>37</td>\n",
       "      <td>662.0</td>\n",
       "      <td>801.0</td>\n",
       "      <td>721.0</td>\n",
       "      <td>39.496835</td>\n",
       "      <td>666</td>\n",
       "      <td>662</td>\n",
       "      <td>671</td>\n",
       "    </tr>\n",
       "    <tr>\n",
       "      <th>Median weekly earnings (in constant dollars) - Total</th>\n",
       "      <td>int64</td>\n",
       "      <td>0</td>\n",
       "      <td>0.0</td>\n",
       "      <td>0</td>\n",
       "      <td>19</td>\n",
       "      <td>37</td>\n",
       "      <td>330.0</td>\n",
       "      <td>355.0</td>\n",
       "      <td>341.405405</td>\n",
       "      <td>7.181997</td>\n",
       "      <td>344</td>\n",
       "      <td>344</td>\n",
       "      <td>342</td>\n",
       "    </tr>\n",
       "    <tr>\n",
       "      <th>Median weekly earnings (in constant dollars) - Men</th>\n",
       "      <td>int64</td>\n",
       "      <td>0</td>\n",
       "      <td>0.0</td>\n",
       "      <td>0</td>\n",
       "      <td>21</td>\n",
       "      <td>37</td>\n",
       "      <td>363.0</td>\n",
       "      <td>392.0</td>\n",
       "      <td>376.351351</td>\n",
       "      <td>7.26948</td>\n",
       "      <td>379</td>\n",
       "      <td>384</td>\n",
       "      <td>374</td>\n",
       "    </tr>\n",
       "    <tr>\n",
       "      <th>Median weekly earnings (in constant dollars) - Women</th>\n",
       "      <td>int64</td>\n",
       "      <td>0</td>\n",
       "      <td>0.0</td>\n",
       "      <td>0</td>\n",
       "      <td>16</td>\n",
       "      <td>37</td>\n",
       "      <td>298.0</td>\n",
       "      <td>320.0</td>\n",
       "      <td>307.27027</td>\n",
       "      <td>5.194274</td>\n",
       "      <td>307</td>\n",
       "      <td>304</td>\n",
       "      <td>309</td>\n",
       "    </tr>\n",
       "  </tbody>\n",
       "</table>\n",
       "</div>"
      ],
      "text/plain": [
       "                                                   Data Type  Missing#  \\\n",
       "Year                                                   int64         0   \n",
       "Quarter                                                int64         0   \n",
       "Number of workers (in thousands) - Total              object         0   \n",
       "Number of workers (in thousands) - Men                object         0   \n",
       "Number of workers (in thousands) - Women              object         0   \n",
       "Median weekly earnings (in current dollars) - T...     int64         0   \n",
       "Median weekly earnings (in current dollars) - Men      int64         0   \n",
       "Median weekly earnings (in current dollars) - W...     int64         0   \n",
       "Median weekly earnings (in constant dollars) - ...     int64         0   \n",
       "Median weekly earnings (in constant dollars) - Men     int64         0   \n",
       "Median weekly earnings (in constant dollars) - ...     int64         0   \n",
       "\n",
       "                                                    Missing%  Dups  Uniques  \\\n",
       "Year                                                     0.0     0       10   \n",
       "Quarter                                                  0.0     0        4   \n",
       "Number of workers (in thousands) - Total                 0.0     0       37   \n",
       "Number of workers (in thousands) - Men                   0.0     0       37   \n",
       "Number of workers (in thousands) - Women                 0.0     0       36   \n",
       "Median weekly earnings (in current dollars) - T...       0.0     0       35   \n",
       "Median weekly earnings (in current dollars) - Men        0.0     0       30   \n",
       "Median weekly earnings (in current dollars) - W...       0.0     0       32   \n",
       "Median weekly earnings (in constant dollars) - ...       0.0     0       19   \n",
       "Median weekly earnings (in constant dollars) - Men       0.0     0       21   \n",
       "Median weekly earnings (in constant dollars) - ...       0.0     0       16   \n",
       "\n",
       "                                                    Count     Min     Max  \\\n",
       "Year                                                   37  2009.0  2018.0   \n",
       "Quarter                                                37     1.0     4.0   \n",
       "Number of workers (in thousands) - Total               37     NaN     NaN   \n",
       "Number of workers (in thousands) - Men                 37     NaN     NaN   \n",
       "Number of workers (in thousands) - Women               37     NaN     NaN   \n",
       "Median weekly earnings (in current dollars) - T...     37   742.0   897.0   \n",
       "Median weekly earnings (in current dollars) - Men      37   814.0   991.0   \n",
       "Median weekly earnings (in current dollars) - W...     37   662.0   801.0   \n",
       "Median weekly earnings (in constant dollars) - ...     37   330.0   355.0   \n",
       "Median weekly earnings (in constant dollars) - Men     37   363.0   392.0   \n",
       "Median weekly earnings (in constant dollars) - ...     37   298.0   320.0   \n",
       "\n",
       "                                                        Average  \\\n",
       "Year                                                2013.864865   \n",
       "Quarter                                                2.540541   \n",
       "Number of workers (in thousands) - Total                    NaN   \n",
       "Number of workers (in thousands) - Men                      NaN   \n",
       "Number of workers (in thousands) - Women                    NaN   \n",
       "Median weekly earnings (in current dollars) - T...    801.27027   \n",
       "Median weekly earnings (in current dollars) - Men    883.054054   \n",
       "Median weekly earnings (in current dollars) - W...        721.0   \n",
       "Median weekly earnings (in constant dollars) - ...   341.405405   \n",
       "Median weekly earnings (in constant dollars) - Men   376.351351   \n",
       "Median weekly earnings (in constant dollars) - ...    307.27027   \n",
       "\n",
       "                                                   Standard Deviation  \\\n",
       "Year                                                         2.709676   \n",
       "Quarter                                                      1.144906   \n",
       "Number of workers (in thousands) - Total                          NaN   \n",
       "Number of workers (in thousands) - Men                            NaN   \n",
       "Number of workers (in thousands) - Women                          NaN   \n",
       "Median weekly earnings (in current dollars) - T...          46.594974   \n",
       "Median weekly earnings (in current dollars) - Men           49.195159   \n",
       "Median weekly earnings (in current dollars) - W...          39.496835   \n",
       "Median weekly earnings (in constant dollars) - ...           7.181997   \n",
       "Median weekly earnings (in constant dollars) - Men            7.26948   \n",
       "Median weekly earnings (in constant dollars) - ...           5.194274   \n",
       "\n",
       "                                                   First Value Second Value  \\\n",
       "Year                                                      2009         2010   \n",
       "Quarter                                                      4            1   \n",
       "Number of workers (in thousands) - Total                98,555       98,143   \n",
       "Number of workers (in thousands) - Men                  54,410       54,098   \n",
       "Number of workers (in thousands) - Women                44,145       44,045   \n",
       "Median weekly earnings (in current dollars) - T...         747          748   \n",
       "Median weekly earnings (in current dollars) - Men          823          836   \n",
       "Median weekly earnings (in current dollars) - W...         666          662   \n",
       "Median weekly earnings (in constant dollars) - ...         344          344   \n",
       "Median weekly earnings (in constant dollars) - Men         379          384   \n",
       "Median weekly earnings (in constant dollars) - ...         307          304   \n",
       "\n",
       "                                                   Third Value  \n",
       "Year                                                      2010  \n",
       "Quarter                                                      2  \n",
       "Number of workers (in thousands) - Total                99,605  \n",
       "Number of workers (in thousands) - Men                  55,028  \n",
       "Number of workers (in thousands) - Women                44,577  \n",
       "Median weekly earnings (in current dollars) - T...         742  \n",
       "Median weekly earnings (in current dollars) - Men          814  \n",
       "Median weekly earnings (in current dollars) - W...         671  \n",
       "Median weekly earnings (in constant dollars) - ...         342  \n",
       "Median weekly earnings (in constant dollars) - Men         374  \n",
       "Median weekly earnings (in constant dollars) - ...         309  "
      ]
     },
     "metadata": {},
     "output_type": "display_data"
    }
   ],
   "source": [
    "# Dataframe summary\n",
    "\n",
    "def summary(df):\n",
    "    print(f'data shape: {df.shape}')\n",
    "    summ = pd.DataFrame(df.dtypes, columns=['Data Type'])\n",
    "    summ['Missing#'] = df.isna().sum()\n",
    "    summ['Missing%'] = (df.isna().sum())/len(df)\n",
    "    summ['Dups'] = df.duplicated().sum()\n",
    "    summ['Uniques'] = df.nunique().values\n",
    "    summ['Count'] = df.count().values\n",
    "    desc = pd.DataFrame(df.describe(include='all').transpose())\n",
    "    summ['Min'] = desc['min'].values\n",
    "    summ['Max'] = desc['max'].values\n",
    "    summ['Average'] = desc['mean'].values\n",
    "    summ['Standard Deviation'] = desc['std'].values\n",
    "    summ['First Value'] = df.loc[0].values\n",
    "    summ['Second Value'] = df.loc[1].values\n",
    "    summ['Third Value'] = df.loc[2].values\n",
    "\n",
    "    display(summ)\n",
    "    \n",
    "summary(df)"
   ]
  },
  {
   "cell_type": "markdown",
   "id": "15bf25cd",
   "metadata": {
    "papermill": {
     "duration": 0.011023,
     "end_time": "2024-09-27T17:04:36.616323",
     "exception": false,
     "start_time": "2024-09-27T17:04:36.605300",
     "status": "completed"
    },
    "tags": []
   },
   "source": [
    "<div class=\"alert alert-block alert-info\" style=\"background-color:caf0f8;color:#2368e1;border-color:black;width:80%;margin: auto;text-align: center;\">\n",
    "<b>Insight:</b> No missing, no dups date</div>"
   ]
  },
  {
   "cell_type": "markdown",
   "id": "e9d5aab4",
   "metadata": {
    "papermill": {
     "duration": 0.0106,
     "end_time": "2024-09-27T17:04:36.638473",
     "exception": false,
     "start_time": "2024-09-27T17:04:36.627873",
     "status": "completed"
    },
    "tags": []
   },
   "source": [
    "#### <b><span style='color:#DEB078'></span><span style='color:#2368e1'> We will only use the values ​​from the 'in constant dollars' columns.</span></b> "
   ]
  },
  {
   "cell_type": "code",
   "execution_count": 6,
   "id": "d35e2c1d",
   "metadata": {
    "execution": {
     "iopub.execute_input": "2024-09-27T17:04:36.662964Z",
     "iopub.status.busy": "2024-09-27T17:04:36.662524Z",
     "iopub.status.idle": "2024-09-27T17:04:36.671277Z",
     "shell.execute_reply": "2024-09-27T17:04:36.670036Z"
    },
    "papermill": {
     "duration": 0.024107,
     "end_time": "2024-09-27T17:04:36.674010",
     "exception": false,
     "start_time": "2024-09-27T17:04:36.649903",
     "status": "completed"
    },
    "tags": []
   },
   "outputs": [],
   "source": [
    "# Deleting unnecessary columns in this study\n",
    "df.drop(['Median weekly earnings (in current dollars) - Total',\n",
    "       'Median weekly earnings (in current dollars) - Men',\n",
    "       'Median weekly earnings (in current dollars) - Women'], axis=1, inplace=True)"
   ]
  },
  {
   "cell_type": "code",
   "execution_count": 7,
   "id": "19030a77",
   "metadata": {
    "execution": {
     "iopub.execute_input": "2024-09-27T17:04:36.698523Z",
     "iopub.status.busy": "2024-09-27T17:04:36.697616Z",
     "iopub.status.idle": "2024-09-27T17:04:36.705196Z",
     "shell.execute_reply": "2024-09-27T17:04:36.703923Z"
    },
    "papermill": {
     "duration": 0.023049,
     "end_time": "2024-09-27T17:04:36.708195",
     "exception": false,
     "start_time": "2024-09-27T17:04:36.685146",
     "status": "completed"
    },
    "tags": []
   },
   "outputs": [],
   "source": [
    "# Rename the columns to make the names shorter.\n",
    "df = df.rename({\"Number of workers (in thousands) - Total\":\"workers_total\",\n",
    "                \"Number of workers (in thousands) - Men\":\"workers_men\",\n",
    "                \"Number of workers (in thousands) - Women\":\"workers_women\", \n",
    "                \"Median weekly earnings (in constant dollars) - Total\":\"weekly_earnings_total\",\n",
    "                \"Median weekly earnings (in constant dollars) - Men\":\"weekly_earnings_men\",\n",
    "                \"Median weekly earnings (in constant dollars) - Women\":\"weekly_earnings_women\",\n",
    "               }, axis='columns')\n"
   ]
  },
  {
   "cell_type": "code",
   "execution_count": 8,
   "id": "c8154b85",
   "metadata": {
    "execution": {
     "iopub.execute_input": "2024-09-27T17:04:36.734065Z",
     "iopub.status.busy": "2024-09-27T17:04:36.732935Z",
     "iopub.status.idle": "2024-09-27T17:04:36.740451Z",
     "shell.execute_reply": "2024-09-27T17:04:36.739279Z"
    },
    "papermill": {
     "duration": 0.022746,
     "end_time": "2024-09-27T17:04:36.743041",
     "exception": false,
     "start_time": "2024-09-27T17:04:36.720295",
     "status": "completed"
    },
    "tags": []
   },
   "outputs": [],
   "source": [
    "# Create a column that includes the year and quarter.\n",
    "df['Date'] = (df['Year'] + df['Quarter']/4)"
   ]
  },
  {
   "cell_type": "code",
   "execution_count": 9,
   "id": "e6e3cdb6",
   "metadata": {
    "execution": {
     "iopub.execute_input": "2024-09-27T17:04:36.767985Z",
     "iopub.status.busy": "2024-09-27T17:04:36.767509Z",
     "iopub.status.idle": "2024-09-27T17:04:36.778129Z",
     "shell.execute_reply": "2024-09-27T17:04:36.776853Z"
    },
    "papermill": {
     "duration": 0.026717,
     "end_time": "2024-09-27T17:04:36.780772",
     "exception": false,
     "start_time": "2024-09-27T17:04:36.754055",
     "status": "completed"
    },
    "tags": []
   },
   "outputs": [],
   "source": [
    "# Change the type of worker columns.\n",
    "columns = ['workers_total', 'workers_men', 'workers_women'] \n",
    "\n",
    "df[columns] = df[columns].apply(lambda x: x.str.replace(',', '').astype('int'))"
   ]
  },
  {
   "cell_type": "markdown",
   "id": "485816f9",
   "metadata": {
    "papermill": {
     "duration": 0.01056,
     "end_time": "2024-09-27T17:04:36.802476",
     "exception": false,
     "start_time": "2024-09-27T17:04:36.791916",
     "status": "completed"
    },
    "tags": []
   },
   "source": [
    "## <b><div style='padding:15px;background-color:#001BC7;color:white;border-radius:40px;font-size:110%;text-align: center'>5  |  EDA</div></b>"
   ]
  },
  {
   "cell_type": "markdown",
   "id": "dd4c0b30",
   "metadata": {
    "papermill": {
     "duration": 0.010637,
     "end_time": "2024-09-27T17:04:36.824033",
     "exception": false,
     "start_time": "2024-09-27T17:04:36.813396",
     "status": "completed"
    },
    "tags": []
   },
   "source": [
    "### <b><span style='color:#DEB078'>5.1 |</span><span style='color:#7A7A7A'> Number of workers (in thousands)</span></b>  "
   ]
  },
  {
   "cell_type": "code",
   "execution_count": 10,
   "id": "d22c8917",
   "metadata": {
    "execution": {
     "iopub.execute_input": "2024-09-27T17:04:36.849005Z",
     "iopub.status.busy": "2024-09-27T17:04:36.848076Z",
     "iopub.status.idle": "2024-09-27T17:04:37.653562Z",
     "shell.execute_reply": "2024-09-27T17:04:37.652340Z"
    },
    "papermill": {
     "duration": 0.820868,
     "end_time": "2024-09-27T17:04:37.656421",
     "exception": false,
     "start_time": "2024-09-27T17:04:36.835553",
     "status": "completed"
    },
    "tags": []
   },
   "outputs": [
    {
     "data": {
      "image/png": "[encoded data removed]",
      "text/plain": [
       "<Figure size 842.25x400 with 1 Axes>"
      ]
     },
     "metadata": {},
     "output_type": "display_data"
    }
   ],
   "source": [
    "# View the evolution of men's and women's workers.\n",
    "df_melted = df.melt(id_vars='Date', value_vars=['workers_men', 'workers_women'], \n",
    "                           var_name='Feature', value_name='Measurement')\n",
    "sns.lmplot(x='Date', y='Measurement', hue='Feature', data=df_melted, palette='Set2', height = 4, aspect = 1.7)\n",
    "plt.title(\"Number of workers (in thousands) - Men and Women\")\n",
    "plt.xlabel('Date')\n",
    "plt.ylabel('Number of workers (in thousands)')\n",
    "plt.ylim(20000, 70000)\n",
    "plt.show()"
   ]
  },
  {
   "cell_type": "markdown",
   "id": "7c874be7",
   "metadata": {
    "papermill": {
     "duration": 0.012485,
     "end_time": "2024-09-27T17:04:37.681808",
     "exception": false,
     "start_time": "2024-09-27T17:04:37.669323",
     "status": "completed"
    },
    "tags": []
   },
   "source": [
    "<div class=\"alert alert-block alert-info\" style=\"background-color:caf0f8;color:#2368e1;border-color:black;width:80%;margin: auto;text-align: center;\">\n",
    "<b>Insight:</b> We can see that there is a tendency for the number of workers for both women and men to increase over time.</div>"
   ]
  },
  {
   "cell_type": "code",
   "execution_count": 11,
   "id": "f455579d",
   "metadata": {
    "execution": {
     "iopub.execute_input": "2024-09-27T17:04:37.708039Z",
     "iopub.status.busy": "2024-09-27T17:04:37.707390Z",
     "iopub.status.idle": "2024-09-27T17:04:37.716021Z",
     "shell.execute_reply": "2024-09-27T17:04:37.714422Z"
    },
    "papermill": {
     "duration": 0.024939,
     "end_time": "2024-09-27T17:04:37.718784",
     "exception": false,
     "start_time": "2024-09-27T17:04:37.693845",
     "status": "completed"
    },
    "tags": []
   },
   "outputs": [],
   "source": [
    "# Let's create a column that represents the relationship between workers_women and workers_men.\n",
    "\n",
    "df['workers_w_m'] = df['workers_women'] / df['workers_men'] * 100"
   ]
  },
  {
   "cell_type": "code",
   "execution_count": 12,
   "id": "f98221e2",
   "metadata": {
    "execution": {
     "iopub.execute_input": "2024-09-27T17:04:37.746916Z",
     "iopub.status.busy": "2024-09-27T17:04:37.746267Z",
     "iopub.status.idle": "2024-09-27T17:04:38.362608Z",
     "shell.execute_reply": "2024-09-27T17:04:38.361379Z"
    },
    "papermill": {
     "duration": 0.63264,
     "end_time": "2024-09-27T17:04:38.365160",
     "exception": false,
     "start_time": "2024-09-27T17:04:37.732520",
     "status": "completed"
    },
    "tags": []
   },
   "outputs": [
    {
     "data": {
      "image/png": "[encoded data removed]",
      "text/plain": [
       "<Figure size 630x420 with 1 Axes>"
      ]
     },
     "metadata": {},
     "output_type": "display_data"
    }
   ],
   "source": [
    "# Visualize the evolution of the relationship between women and men workers.\n",
    "sns.lmplot(x='Date', y='workers_w_m', data=df, palette='Set2', height = 4.2, aspect = 1.5)\n",
    "plt.title(\"Percentage of workers_women / workers_men\")\n",
    "plt.xlabel('Date')\n",
    "plt.ylabel('Percentage')\n",
    "plt.ylim(40, 100)\n",
    "plt.show()"
   ]
  },
  {
   "cell_type": "code",
   "execution_count": 13,
   "id": "d4d6d138",
   "metadata": {
    "execution": {
     "iopub.execute_input": "2024-09-27T17:04:38.392264Z",
     "iopub.status.busy": "2024-09-27T17:04:38.391829Z",
     "iopub.status.idle": "2024-09-27T17:04:38.403724Z",
     "shell.execute_reply": "2024-09-27T17:04:38.402610Z"
    },
    "papermill": {
     "duration": 0.028476,
     "end_time": "2024-09-27T17:04:38.406204",
     "exception": false,
     "start_time": "2024-09-27T17:04:38.377728",
     "status": "completed"
    },
    "tags": []
   },
   "outputs": [
    {
     "data": {
      "text/plain": [
       "count    37.000000\n",
       "mean     79.760729\n",
       "std       0.676174\n",
       "min      78.693678\n",
       "25%      79.273798\n",
       "50%      79.705873\n",
       "75%      80.114571\n",
       "max      81.417058\n",
       "Name: workers_w_m, dtype: float64"
      ]
     },
     "execution_count": 13,
     "metadata": {},
     "output_type": "execute_result"
    }
   ],
   "source": [
    "df['workers_w_m'].describe()"
   ]
  },
  {
   "cell_type": "markdown",
   "id": "ac3b9cc7",
   "metadata": {
    "papermill": {
     "duration": 0.012392,
     "end_time": "2024-09-27T17:04:38.431177",
     "exception": false,
     "start_time": "2024-09-27T17:04:38.418785",
     "status": "completed"
    },
    "tags": []
   },
   "source": [
    "<div class=\"alert alert-block alert-info\" style=\"background-color:caf0f8;color:#2368e1;border-color:black;width:80%;margin: auto;text-align: center;\">\n",
    "<b>Insight:</b> We can see that the percentage of women in relation to men remains practically stable over time.</div>"
   ]
  },
  {
   "cell_type": "markdown",
   "id": "9487b4be",
   "metadata": {
    "papermill": {
     "duration": 0.015035,
     "end_time": "2024-09-27T17:04:38.463448",
     "exception": false,
     "start_time": "2024-09-27T17:04:38.448413",
     "status": "completed"
    },
    "tags": []
   },
   "source": [
    "### <b><span style='color:#DEB078'>5.2 |</span><span style='color:#7A7A7A'> Median weekly earnings (in constant dollars)</span></b>  "
   ]
  },
  {
   "cell_type": "code",
   "execution_count": 14,
   "id": "2f71f489",
   "metadata": {
    "execution": {
     "iopub.execute_input": "2024-09-27T17:04:38.491952Z",
     "iopub.status.busy": "2024-09-27T17:04:38.491507Z",
     "iopub.status.idle": "2024-09-27T17:04:39.398448Z",
     "shell.execute_reply": "2024-09-27T17:04:39.397085Z"
    },
    "papermill": {
     "duration": 0.923883,
     "end_time": "2024-09-27T17:04:39.401177",
     "exception": false,
     "start_time": "2024-09-27T17:04:38.477294",
     "status": "completed"
    },
    "tags": []
   },
   "outputs": [
    {
     "data": {
      "image/png": "[encoded data removed]",
      "text/plain": [
       "<Figure size 903.25x400 with 1 Axes>"
      ]
     },
     "metadata": {},
     "output_type": "display_data"
    }
   ],
   "source": [
    "# View the evolution of men's and women's earnings.\n",
    "df_melted = df.melt(id_vars='Date', value_vars=['weekly_earnings_men', 'weekly_earnings_women'], \n",
    "                           var_name='Feature', value_name='Measurement')\n",
    "sns.lmplot(x='Date', y='Measurement', hue='Feature', data=df_melted, palette='Set2', height = 4, aspect = 1.7)\n",
    "plt.title(\"Median weekly earnings (in constant dollars) - Men and Women\")\n",
    "plt.xlabel('Date')\n",
    "plt.ylabel('Median weekly earnings (in constant dollars)')\n",
    "plt.ylim(200, 400)\n",
    "plt.show()"
   ]
  },
  {
   "cell_type": "markdown",
   "id": "65dffb74",
   "metadata": {
    "papermill": {
     "duration": 0.013392,
     "end_time": "2024-09-27T17:04:39.428926",
     "exception": false,
     "start_time": "2024-09-27T17:04:39.415534",
     "status": "completed"
    },
    "tags": []
   },
   "source": [
    "<div class=\"alert alert-block alert-info\" style=\"background-color:caf0f8;color:#2368e1;border-color:black;width:80%;margin: auto;text-align: center;\">\n",
    "<b>Insight:</b> We can see that there is a tendency for earnings for both women and men to increase over time.</div>"
   ]
  },
  {
   "cell_type": "code",
   "execution_count": 15,
   "id": "f4fc63c6",
   "metadata": {
    "execution": {
     "iopub.execute_input": "2024-09-27T17:04:39.458410Z",
     "iopub.status.busy": "2024-09-27T17:04:39.457990Z",
     "iopub.status.idle": "2024-09-27T17:04:39.465444Z",
     "shell.execute_reply": "2024-09-27T17:04:39.464117Z"
    },
    "papermill": {
     "duration": 0.025109,
     "end_time": "2024-09-27T17:04:39.467895",
     "exception": false,
     "start_time": "2024-09-27T17:04:39.442786",
     "status": "completed"
    },
    "tags": []
   },
   "outputs": [],
   "source": [
    "# Let's create a column that represents the relationship between weekly_earnings_women and weekly_earnings_men.\n",
    "\n",
    "df['weekly_earnings_w_m'] = df['weekly_earnings_women'] / df['weekly_earnings_men'] * 100"
   ]
  },
  {
   "cell_type": "code",
   "execution_count": 16,
   "id": "e96aa52b",
   "metadata": {
    "execution": {
     "iopub.execute_input": "2024-09-27T17:04:39.497230Z",
     "iopub.status.busy": "2024-09-27T17:04:39.496326Z",
     "iopub.status.idle": "2024-09-27T17:04:39.959387Z",
     "shell.execute_reply": "2024-09-27T17:04:39.957855Z"
    },
    "papermill": {
     "duration": 0.480803,
     "end_time": "2024-09-27T17:04:39.962237",
     "exception": false,
     "start_time": "2024-09-27T17:04:39.481434",
     "status": "completed"
    },
    "tags": []
   },
   "outputs": [
    {
     "data": {
      "image/png": "[encoded data removed]",
      "text/plain": [
       "<Figure size 630x420 with 1 Axes>"
      ]
     },
     "metadata": {},
     "output_type": "display_data"
    }
   ],
   "source": [
    "# View the evolution of weekly_earnings_women / weekly_earnings_men.\n",
    "sns.lmplot(x='Date', y='weekly_earnings_w_m', data=df, palette='Set2', height = 4.2, aspect = 1.5)\n",
    "plt.title(\"Percentage of weekly_earnings_women / weekly_earnings_men\")\n",
    "plt.xlabel('Date')\n",
    "plt.ylabel('Percentage')\n",
    "plt.ylim(40, 100)\n",
    "plt.show()"
   ]
  },
  {
   "cell_type": "code",
   "execution_count": 17,
   "id": "67f7444e",
   "metadata": {
    "execution": {
     "iopub.execute_input": "2024-09-27T17:04:39.993455Z",
     "iopub.status.busy": "2024-09-27T17:04:39.992986Z",
     "iopub.status.idle": "2024-09-27T17:04:40.005472Z",
     "shell.execute_reply": "2024-09-27T17:04:40.003916Z"
    },
    "papermill": {
     "duration": 0.031567,
     "end_time": "2024-09-27T17:04:40.008306",
     "exception": false,
     "start_time": "2024-09-27T17:04:39.976739",
     "status": "completed"
    },
    "tags": []
   },
   "outputs": [
    {
     "data": {
      "text/plain": [
       "count    37.000000\n",
       "mean     81.654204\n",
       "std       1.013098\n",
       "min      78.947368\n",
       "25%      81.201044\n",
       "50%      81.748072\n",
       "75%      82.336957\n",
       "max      83.195592\n",
       "Name: weekly_earnings_w_m, dtype: float64"
      ]
     },
     "execution_count": 17,
     "metadata": {},
     "output_type": "execute_result"
    }
   ],
   "source": [
    "df['weekly_earnings_w_m'].describe()"
   ]
  },
  {
   "cell_type": "markdown",
   "id": "f191d729",
   "metadata": {
    "papermill": {
     "duration": 0.015105,
     "end_time": "2024-09-27T17:04:40.038344",
     "exception": false,
     "start_time": "2024-09-27T17:04:40.023239",
     "status": "completed"
    },
    "tags": []
   },
   "source": [
    "<div class=\"alert alert-block alert-info\" style=\"background-color:caf0f8;color:#2368e1;border-color:black;width:80%;margin: auto;text-align: center;\">\n",
    "<b>Insight:</b> We can see that the percentage of earnings between women and men remains practically stable over time..</div>"
   ]
  },
  {
   "cell_type": "markdown",
   "id": "25d280f3",
   "metadata": {
    "papermill": {
     "duration": 0.013954,
     "end_time": "2024-09-27T17:04:40.066887",
     "exception": false,
     "start_time": "2024-09-27T17:04:40.052933",
     "status": "completed"
    },
    "tags": []
   },
   "source": [
    "## <b><span style='color:#DEB078'></span><span style='color:#2368e1'> Summary:</span></b>\n",
    "\n",
    "#### <b><span style='color:#DEB078'></span><span style='color:#2368e1'>We can conclude that there is an increase in the number of workers and earnings over time, both for women and men.</span></b>\n",
    "\n",
    "#### <b><span style='color:#DEB078'></span><span style='color:#2368e1'>However, the relationship between men and women, in terms of the number of workers and earnings, has remained practically the same over the years.</span></b>"
   ]
  },
  {
   "cell_type": "markdown",
   "id": "1d2c2f9f",
   "metadata": {
    "papermill": {
     "duration": 0.013917,
     "end_time": "2024-09-27T17:04:40.095267",
     "exception": false,
     "start_time": "2024-09-27T17:04:40.081350",
     "status": "completed"
    },
    "tags": []
   },
   "source": [
    "## <b><div style='padding:15px;background-color:#001BC7;color:white;border-radius:40px;font-size:110%;text-align: center'>If you liked it, please upvote. Thank you very much.</div></b>"
   ]
  }
 ],
 "metadata": {
  "kaggle": {
   "accelerator": "none",
   "dataSources": [
    {
     "datasetId": 5639743,
     "sourceId": 9312114,
     "sourceType": "datasetVersion"
    }
   ],
   "dockerImageVersionId": 30775,
   "isGpuEnabled": false,
   "isInternetEnabled": true,
   "language": "python",
   "sourceType": "notebook"
  },
  "kernelspec": {
   "display_name": "Python 3",
   "language": "python",
   "name": "python3"
  },
  "language_info": {
   "codemirror_mode": {
    "name": "ipython",
    "version": 3
   },
   "file_extension": ".py",
   "mimetype": "text/x-python",
   "name": "python",
   "nbconvert_exporter": "python",
   "pygments_lexer": "ipython3",
   "version": "3.10.14"
  },
  "papermill": {
   "default_parameters": {},
   "duration": 11.667548,
   "end_time": "2024-09-27T17:04:40.832339",
   "environment_variables": {},
   "exception": null,
   "input_path": "__notebook__.ipynb",
   "output_path": "__notebook__.ipynb",
   "parameters": {},
   "start_time": "2024-09-27T17:04:29.164791",
   "version": "2.5.0"
  }
 },
 "nbformat": 4,
 "nbformat_minor": 5
}
